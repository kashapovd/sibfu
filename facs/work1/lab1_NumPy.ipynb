{
 "cells": [
  {
   "cell_type": "markdown",
   "id": "d7484772",
   "metadata": {},
   "source": [
    "# Знакомство с библиотекой NumPy\n",
    "---\n",
    "NumPy — библиотека для работы с многомерными массивами и математических вычислений различного рода.  \n",
    "NumPy можно рассматривать как некую альтернативу MATLAB.\n",
    "   \n",
    "[Документация NumPy](https://numpy.org/doc/stable/reference/index.html)"
   ]
  },
  {
   "cell_type": "markdown",
   "id": "e42707f5",
   "metadata": {},
   "source": [
    "**Импорт библиотеки NumPy:**"
   ]
  },
  {
   "cell_type": "code",
   "execution_count": 1,
   "id": "c7c2e100",
   "metadata": {},
   "outputs": [],
   "source": [
    "import numpy as np"
   ]
  },
  {
   "cell_type": "markdown",
   "id": "ef5c23d7",
   "metadata": {},
   "source": [
    "**Создание одномерного массива:**"
   ]
  },
  {
   "cell_type": "code",
   "execution_count": 2,
   "id": "2b459c8a",
   "metadata": {},
   "outputs": [],
   "source": [
    "array_1D = np.array([1, 0])"
   ]
  },
  {
   "cell_type": "markdown",
   "id": "da0c9880",
   "metadata": {},
   "source": [
    "**Вывод массива для ознакомления:**"
   ]
  },
  {
   "cell_type": "code",
   "execution_count": 3,
   "id": "654992b2",
   "metadata": {},
   "outputs": [
    {
     "data": {
      "text/plain": [
       "array([1, 0])"
      ]
     },
     "execution_count": 3,
     "metadata": {},
     "output_type": "execute_result"
    }
   ],
   "source": [
    "array_1D"
   ]
  },
  {
   "cell_type": "markdown",
   "id": "c3a44d65",
   "metadata": {},
   "source": [
    "**Создание двумерного массива:**\n"
   ]
  },
  {
   "cell_type": "code",
   "execution_count": 4,
   "id": "fc78cea8",
   "metadata": {},
   "outputs": [
    {
     "data": {
      "text/plain": [
       "array([[ 1,  0,  2],\n",
       "       [ 3,  4,  5],\n",
       "       [ 6,  8,  7],\n",
       "       [12, 22,  9]])"
      ]
     },
     "execution_count": 4,
     "metadata": {},
     "output_type": "execute_result"
    }
   ],
   "source": [
    "array_2D = np.array([[1, 0, 2], [3, 4, 5], [6, 8, 7], [12, 22, 9]])\n",
    "array_2D"
   ]
  },
  {
   "cell_type": "markdown",
   "id": "16736296",
   "metadata": {},
   "source": [
    "**Просмотр типа данных элементов массива:**"
   ]
  },
  {
   "cell_type": "code",
   "execution_count": 5,
   "id": "c45e9ebc",
   "metadata": {
    "scrolled": true
   },
   "outputs": [
    {
     "data": {
      "text/plain": [
       "dtype('int64')"
      ]
     },
     "execution_count": 5,
     "metadata": {},
     "output_type": "execute_result"
    }
   ],
   "source": [
    "array_2D.dtype"
   ]
  },
  {
   "cell_type": "markdown",
   "id": "9ef5ef1f",
   "metadata": {},
   "source": [
    "**Тип данных можно задать при создании массива:**"
   ]
  },
  {
   "cell_type": "code",
   "execution_count": 39,
   "id": "70a614be",
   "metadata": {
    "scrolled": true
   },
   "outputs": [
    {
     "name": "stdout",
     "output_type": "stream",
     "text": [
      "float64 - тип данных\n",
      "[1.] - значение переменных массива\n"
     ]
    }
   ],
   "source": [
    "array_int32 = np.array([1], dtype = float)\n",
    "print(array_int32.dtype, \"- тип данных\")\n",
    "print(array_int32, \"- значение переменных массива\")"
   ]
  },
  {
   "cell_type": "markdown",
   "id": "522ff030",
   "metadata": {},
   "source": [
    "**Вывод размерности массива:**"
   ]
  },
  {
   "cell_type": "code",
   "execution_count": 7,
   "id": "c6326677",
   "metadata": {},
   "outputs": [
    {
     "name": "stdout",
     "output_type": "stream",
     "text": [
      "(2,) - количество элементов одномерного массива\n",
      "(4, 3) - количество строк и столбцов двумерного массива\n"
     ]
    }
   ],
   "source": [
    "print(array_1D.shape, \"- количество элементов одномерного массива\")\n",
    "print(array_2D.shape, \"- количество строк и столбцов двумерного массива\")"
   ]
  },
  {
   "cell_type": "markdown",
   "id": "a0080c10",
   "metadata": {},
   "source": [
    "**Варианты автоматического заполнения массивов:**"
   ]
  },
  {
   "cell_type": "code",
   "execution_count": 8,
   "id": "88c7cc88",
   "metadata": {},
   "outputs": [
    {
     "data": {
      "text/plain": [
       "array([[1., 1.],\n",
       "       [1., 1.]])"
      ]
     },
     "execution_count": 8,
     "metadata": {},
     "output_type": "execute_result"
    }
   ],
   "source": [
    "np.ones((2, 2))"
   ]
  },
  {
   "cell_type": "code",
   "execution_count": 9,
   "id": "53d81dd6",
   "metadata": {},
   "outputs": [
    {
     "data": {
      "text/plain": [
       "array([[0., 0., 0.],\n",
       "       [0., 0., 0.]])"
      ]
     },
     "execution_count": 9,
     "metadata": {},
     "output_type": "execute_result"
    }
   ],
   "source": [
    "np.zeros((2, 3))"
   ]
  },
  {
   "cell_type": "code",
   "execution_count": 10,
   "id": "85f52ee8",
   "metadata": {},
   "outputs": [
    {
     "data": {
      "text/plain": [
       "array([[1., 0., 0., 0.],\n",
       "       [0., 1., 0., 0.],\n",
       "       [0., 0., 1., 0.],\n",
       "       [0., 0., 0., 1.]])"
      ]
     },
     "execution_count": 10,
     "metadata": {},
     "output_type": "execute_result"
    }
   ],
   "source": [
    "np.eye(4)"
   ]
  },
  {
   "cell_type": "code",
   "execution_count": 11,
   "id": "f442ea44",
   "metadata": {},
   "outputs": [
    {
     "data": {
      "text/plain": [
       "array([[0.91470044, 0.4455219 , 0.35617473, 0.65802608],\n",
       "       [0.46228736, 0.83834442, 0.94552828, 0.04333836]])"
      ]
     },
     "execution_count": 11,
     "metadata": {},
     "output_type": "execute_result"
    }
   ],
   "source": [
    "np.random.random((2, 4))"
   ]
  },
  {
   "cell_type": "code",
   "execution_count": 12,
   "id": "8c6ee6da",
   "metadata": {},
   "outputs": [
    {
     "data": {
      "text/plain": [
       "array([[5, 5],\n",
       "       [5, 5]])"
      ]
     },
     "execution_count": 12,
     "metadata": {},
     "output_type": "execute_result"
    }
   ],
   "source": [
    "np.full((2, 2), 5)"
   ]
  },
  {
   "cell_type": "code",
   "execution_count": 13,
   "id": "bfeefa04",
   "metadata": {},
   "outputs": [
    {
     "data": {
      "text/plain": [
       "array([ 0,  1,  2,  3,  4,  5,  6,  7,  8,  9, 10, 11, 12, 13, 14])"
      ]
     },
     "execution_count": 13,
     "metadata": {},
     "output_type": "execute_result"
    }
   ],
   "source": [
    "np.arange(15)"
   ]
  },
  {
   "cell_type": "markdown",
   "id": "88d71f32",
   "metadata": {},
   "source": [
    "**Обращение к элементу массива по его индексу:**  \n",
    "*(индексация начинается с нуля)*"
   ]
  },
  {
   "cell_type": "code",
   "execution_count": 14,
   "id": "774a19de",
   "metadata": {},
   "outputs": [
    {
     "name": "stdout",
     "output_type": "stream",
     "text": [
      "[1 0]\n"
     ]
    },
    {
     "data": {
      "text/plain": [
       "0"
      ]
     },
     "execution_count": 14,
     "metadata": {},
     "output_type": "execute_result"
    }
   ],
   "source": [
    "print(array_1D)\n",
    "array_1D[1]"
   ]
  },
  {
   "cell_type": "code",
   "execution_count": 15,
   "id": "3affd611",
   "metadata": {},
   "outputs": [
    {
     "name": "stdout",
     "output_type": "stream",
     "text": [
      "[[ 1  0  2]\n",
      " [ 3  4  5]\n",
      " [ 6  8  7]\n",
      " [12 22  9]]\n"
     ]
    },
    {
     "data": {
      "text/plain": [
       "5"
      ]
     },
     "execution_count": 15,
     "metadata": {},
     "output_type": "execute_result"
    }
   ],
   "source": [
    "print(array_2D)\n",
    "array_2D[1, 2]"
   ]
  },
  {
   "cell_type": "code",
   "execution_count": 16,
   "id": "0ae6028c",
   "metadata": {},
   "outputs": [
    {
     "name": "stdout",
     "output_type": "stream",
     "text": [
      "[[ 1  0  2]\n",
      " [ 3  4  5]\n",
      " [ 6  8  7]\n",
      " [12 22  9]]\n"
     ]
    },
    {
     "data": {
      "text/plain": [
       "array([[1, 0, 2],\n",
       "       [3, 4, 5]])"
      ]
     },
     "execution_count": 16,
     "metadata": {},
     "output_type": "execute_result"
    }
   ],
   "source": [
    "print(array_2D[:, :])\n",
    "array_2D[:2, :3]"
   ]
  },
  {
   "cell_type": "markdown",
   "id": "20c5be38",
   "metadata": {},
   "source": [
    "**Просмотр элементов массива, удовлетворяющих условию:**"
   ]
  },
  {
   "cell_type": "code",
   "execution_count": 17,
   "id": "13f54848",
   "metadata": {},
   "outputs": [
    {
     "data": {
      "text/plain": [
       "array([[False, False, False],\n",
       "       [False, False, False],\n",
       "       [ True,  True,  True],\n",
       "       [ True,  True,  True]])"
      ]
     },
     "execution_count": 17,
     "metadata": {},
     "output_type": "execute_result"
    }
   ],
   "source": [
    "array_2D > 5"
   ]
  },
  {
   "cell_type": "code",
   "execution_count": 18,
   "id": "23045a1d",
   "metadata": {},
   "outputs": [
    {
     "data": {
      "text/plain": [
       "array([ 6,  8,  7, 12, 22,  9])"
      ]
     },
     "execution_count": 18,
     "metadata": {},
     "output_type": "execute_result"
    }
   ],
   "source": [
    "array_2D[array_2D > 5]"
   ]
  },
  {
   "cell_type": "markdown",
   "id": "562daf4c",
   "metadata": {},
   "source": [
    "**Изменение размерности матрицы:**"
   ]
  },
  {
   "cell_type": "code",
   "execution_count": 19,
   "id": "19577c09",
   "metadata": {},
   "outputs": [
    {
     "name": "stdout",
     "output_type": "stream",
     "text": [
      "[[ 1  0  2]\n",
      " [ 3  4  5]\n",
      " [ 6  8  7]\n",
      " [12 22  9]]\n"
     ]
    },
    {
     "data": {
      "text/plain": [
       "array([ 1,  0,  2,  3,  4,  5,  6,  8,  7, 12, 22,  9])"
      ]
     },
     "execution_count": 19,
     "metadata": {},
     "output_type": "execute_result"
    }
   ],
   "source": [
    "print(array_2D)\n",
    "array_2D.flatten()"
   ]
  },
  {
   "cell_type": "code",
   "execution_count": 20,
   "id": "bd77fe45",
   "metadata": {},
   "outputs": [
    {
     "name": "stdout",
     "output_type": "stream",
     "text": [
      "[[ 1  0  2]\n",
      " [ 3  4  5]\n",
      " [ 6  8  7]\n",
      " [12 22  9]]\n"
     ]
    },
    {
     "data": {
      "text/plain": [
       "array([[ 1,  0],\n",
       "       [ 2,  3],\n",
       "       [ 4,  5],\n",
       "       [ 6,  8],\n",
       "       [ 7, 12],\n",
       "       [22,  9]])"
      ]
     },
     "execution_count": 20,
     "metadata": {},
     "output_type": "execute_result"
    }
   ],
   "source": [
    "print(array_2D)\n",
    "array_2D.reshape(6,2)"
   ]
  },
  {
   "cell_type": "code",
   "execution_count": 21,
   "id": "e6525f3d",
   "metadata": {},
   "outputs": [
    {
     "name": "stdout",
     "output_type": "stream",
     "text": [
      "[[ 1  0  2]\n",
      " [ 3  4  5]\n",
      " [ 6  8  7]\n",
      " [12 22  9]]\n"
     ]
    },
    {
     "data": {
      "text/plain": [
       "array([[ 1,  0,  2,  3,  4,  5],\n",
       "       [ 6,  8,  7, 12, 22,  9]])"
      ]
     },
     "execution_count": 21,
     "metadata": {},
     "output_type": "execute_result"
    }
   ],
   "source": [
    "#Метод resize() изменяет размерность массива и перезаписывает его\n",
    "print(array_2D)\n",
    "array_2D.resize(2, 6)\n",
    "array_2D"
   ]
  },
  {
   "cell_type": "markdown",
   "id": "267445c3",
   "metadata": {},
   "source": [
    "**Простые действия с массивами:**"
   ]
  },
  {
   "cell_type": "code",
   "execution_count": 22,
   "id": "0bc461c3",
   "metadata": {},
   "outputs": [],
   "source": [
    "a = np.array([1, 2])\n",
    "b = np.array([2, 3])"
   ]
  },
  {
   "cell_type": "code",
   "execution_count": 23,
   "id": "5fe49b0b",
   "metadata": {},
   "outputs": [
    {
     "name": "stdout",
     "output_type": "stream",
     "text": [
      "[3 5] \n",
      "\n",
      "[3 5]\n"
     ]
    }
   ],
   "source": [
    "#сложение\n",
    "print(a + b, '\\n')\n",
    "print(np.add(a, b))"
   ]
  },
  {
   "cell_type": "code",
   "execution_count": 24,
   "id": "009148e5",
   "metadata": {},
   "outputs": [
    {
     "name": "stdout",
     "output_type": "stream",
     "text": [
      "[-1 -1] \n",
      "\n",
      "[-1 -1]\n"
     ]
    }
   ],
   "source": [
    "#вычитание\n",
    "print(a - b, '\\n')\n",
    "print(np.subtract(a, b))"
   ]
  },
  {
   "cell_type": "code",
   "execution_count": 25,
   "id": "58564533",
   "metadata": {},
   "outputs": [
    {
     "name": "stdout",
     "output_type": "stream",
     "text": [
      "[0.5        0.66666667] \n",
      "\n",
      "[0.5        0.66666667]\n"
     ]
    }
   ],
   "source": [
    "#деление\n",
    "print(a / b, '\\n')\n",
    "print(np.divide(a, b))"
   ]
  },
  {
   "cell_type": "code",
   "execution_count": 26,
   "id": "0ae80057",
   "metadata": {},
   "outputs": [
    {
     "name": "stdout",
     "output_type": "stream",
     "text": [
      "[2 6] \n",
      "\n",
      "[2 6]\n"
     ]
    }
   ],
   "source": [
    "#поэлементное умножение\n",
    "print(a * b, '\\n')\n",
    "print(np.multiply(a, b))"
   ]
  },
  {
   "cell_type": "markdown",
   "id": "c145bf4e",
   "metadata": {},
   "source": [
    "**Скалярное произведение векторов, умножение матриц:**"
   ]
  },
  {
   "cell_type": "code",
   "execution_count": 27,
   "id": "5b476b1e",
   "metadata": {},
   "outputs": [],
   "source": [
    "a = np.array([2, 3])\n",
    "b = np.array([[4], [5]])"
   ]
  },
  {
   "cell_type": "code",
   "execution_count": 28,
   "id": "84f9cdeb",
   "metadata": {},
   "outputs": [
    {
     "name": "stdout",
     "output_type": "stream",
     "text": [
      "[23] \n",
      "\n",
      "[23]\n"
     ]
    }
   ],
   "source": [
    "print(np.dot(a, b), '\\n')\n",
    "print(a @ b)"
   ]
  },
  {
   "cell_type": "code",
   "execution_count": 29,
   "id": "dd7904f9",
   "metadata": {},
   "outputs": [
    {
     "name": "stdout",
     "output_type": "stream",
     "text": [
      "[6 9] \n",
      "\n",
      "[6 9]\n"
     ]
    }
   ],
   "source": [
    "print(np.dot(a, 3), '\\n')\n",
    "print(a * 3)"
   ]
  },
  {
   "cell_type": "markdown",
   "id": "271f4fd1",
   "metadata": {},
   "source": [
    "# Задачи для самостоятельного решения  \n",
    "---"
   ]
  },
  {
   "cell_type": "markdown",
   "id": "23b828f0",
   "metadata": {},
   "source": [
    "**1. Создать одномерный массив, заполненный двойками, но 6-ой элемент равен 8**"
   ]
  },
  {
   "cell_type": "code",
   "execution_count": 30,
   "id": "580568f6",
   "metadata": {},
   "outputs": [
    {
     "data": {
      "text/plain": [
       "array([2, 2, 2, 2, 2, 8, 2, 2, 2, 2])"
      ]
     },
     "execution_count": 30,
     "metadata": {},
     "output_type": "execute_result"
    }
   ],
   "source": [
    "a = np.full(10, 2, dtype=int)\n",
    "a[5]=8\n",
    "a\n"
   ]
  },
  {
   "cell_type": "markdown",
   "id": "1b350a10",
   "metadata": {},
   "source": [
    "**2. Создать одномерный массив, со значениями от 15 до 98**"
   ]
  },
  {
   "cell_type": "code",
   "execution_count": 31,
   "id": "93a49107",
   "metadata": {},
   "outputs": [
    {
     "data": {
      "text/plain": [
       "array([15, 16, 17, 18, 19, 20, 21, 22, 23, 24, 25, 26, 27, 28, 29, 30, 31,\n",
       "       32, 33, 34, 35, 36, 37, 38, 39, 40, 41, 42, 43, 44, 45, 46, 47, 48,\n",
       "       49, 50, 51, 52, 53, 54, 55, 56, 57, 58, 59, 60, 61, 62, 63, 64, 65,\n",
       "       66, 67, 68, 69, 70, 71, 72, 73, 74, 75, 76, 77, 78, 79, 80, 81, 82,\n",
       "       83, 84, 85, 86, 87, 88, 89, 90, 91, 92, 93, 94, 95, 96, 97, 98])"
      ]
     },
     "execution_count": 31,
     "metadata": {},
     "output_type": "execute_result"
    }
   ],
   "source": [
    "np.arange(15, 99, dtype=int)"
   ]
  },
  {
   "cell_type": "markdown",
   "id": "7c8dde78",
   "metadata": {},
   "source": [
    "**3. Перевернуть вектор  \n",
    "*(123 -> 321)***"
   ]
  },
  {
   "cell_type": "code",
   "execution_count": 32,
   "id": "26cc8d85",
   "metadata": {
    "scrolled": true
   },
   "outputs": [
    {
     "data": {
      "text/plain": [
       "array([3, 2, 1])"
      ]
     },
     "execution_count": 32,
     "metadata": {},
     "output_type": "execute_result"
    }
   ],
   "source": [
    "a = np.array([1,2,3])\n",
    "np.flip(a)"
   ]
  },
  {
   "cell_type": "markdown",
   "id": "503509ab",
   "metadata": {},
   "source": [
    "**4. Найти минимальный и максимальный элемент двумерного массива размерностью 15х15**"
   ]
  },
  {
   "cell_type": "code",
   "execution_count": 33,
   "id": "24b91cbd",
   "metadata": {
    "scrolled": false
   },
   "outputs": [
    {
     "name": "stdout",
     "output_type": "stream",
     "text": [
      "[[-484  615 -204 -184  975  916 -411    9   -4   21  979 -701  503  -30\n",
      "    53]\n",
      " [ 450  706 -268  676  -57 -606 -468  455  246  -63 -968  310   40  -32\n",
      "   277]\n",
      " [ 396 -814  237 -584 -395 -404 -900  180  863 -358  983 -371  738  867\n",
      "  -760]\n",
      " [-303 -914  228  837 -772  -66   17   13 -952  518  385   85 -501  525\n",
      "    94]\n",
      " [-471  958 -513 -649  823  958 -813  425  144  206  729 -114   58  881\n",
      "   122]\n",
      " [ 957 -967 -125  911    2  668 -571  335 -618 -628 -107   78 -431  885\n",
      "   484]\n",
      " [ 703  154  -42 -770 -360  421  669  903 -885  931   77 -724  728 -131\n",
      "  -495]\n",
      " [ 766  -91  725 -100  440  931 -186 -715  853 -343  509  -44 -246   31\n",
      "  -191]\n",
      " [ 231 -848  510  108 -174  825  140 -617 -149 -702 -443 -850  406 -752\n",
      "     9]\n",
      " [-754  488    9 -432  969  173  485  305  850 -946  653  861  752  603\n",
      "   947]\n",
      " [-142  707  942   31 -463   61  276 -467 -866  328 -123 -679 -314 -296\n",
      "  -995]\n",
      " [-492  948  -95  520  615  736   68 -470  633  456  956  676 -176  518\n",
      "   957]\n",
      " [-980 -928  857  268  839  925  175 -751  311 -850  854 -647 -470  541\n",
      "   920]\n",
      " [ 522  427 -385 -449  112 -348  641 -116  460  591  296 -211  577  277\n",
      "   301]\n",
      " [-799  -14 -985  225  635  867  380 -290 -111  730 -876 -904  922 -609\n",
      "   718]]\n",
      "max: 983, min -995\n"
     ]
    }
   ],
   "source": [
    "a = np.random.randint(-1000,1000, size=(15, 15))\n",
    "print(a)\n",
    "print(\"max: {}, min {}\".format(np.amax(a), np.amin(a)))"
   ]
  },
  {
   "cell_type": "markdown",
   "id": "905df7f7",
   "metadata": {},
   "source": [
    "**5. Поменять в двумерном массиве 3 и 4 строку между собой**"
   ]
  },
  {
   "cell_type": "code",
   "execution_count": 34,
   "id": "d5158ad1",
   "metadata": {
    "scrolled": true
   },
   "outputs": [
    {
     "name": "stdout",
     "output_type": "stream",
     "text": [
      "[[  8  -5  -4   5   7]\n",
      " [ -2  -1   9  -1  -5]\n",
      " [-10   0  -9  -7   6]\n",
      " [ -4   1   0   7  -1]\n",
      " [ -6  -7  -5  -1  -6]]\n"
     ]
    },
    {
     "data": {
      "text/plain": [
       "array([[  8,  -5,  -4,   5,   7],\n",
       "       [ -2,  -1,   9,  -1,  -5],\n",
       "       [ -4,   1,   0,   7,  -1],\n",
       "       [-10,   0,  -9,  -7,   6],\n",
       "       [ -6,  -7,  -5,  -1,  -6]])"
      ]
     },
     "execution_count": 34,
     "metadata": {},
     "output_type": "execute_result"
    }
   ],
   "source": [
    "a = np.random.randint(-10,10, size=(5, 5))\n",
    "print(a)\n",
    "a[[2, 3]] = a[[3, 2]]\n",
    "a"
   ]
  },
  {
   "cell_type": "markdown",
   "id": "152c2b08",
   "metadata": {},
   "source": [
    "**6. Поменять каждый 4-ый элемент в одномерном массиве на заданное число: 212**"
   ]
  },
  {
   "cell_type": "code",
   "execution_count": 35,
   "id": "f648ceea",
   "metadata": {},
   "outputs": [
    {
     "name": "stdout",
     "output_type": "stream",
     "text": [
      "[ 0  2  9  2  9  6 -6 -9 -5  8 -7  9 -8 -2  3  0  2  9  5  0]\n",
      "[  0   2   9 212   9   6  -6 212  -5   8  -7 212  -8  -2   3 212   2   9\n",
      "   5 212]\n"
     ]
    }
   ],
   "source": [
    "a = np.random.randint(-10,10, size=20)\n",
    "print(a)\n",
    "a[3::4] = 212\n",
    "print(a)"
   ]
  },
  {
   "cell_type": "markdown",
   "id": "cff43ea4",
   "metadata": {},
   "source": [
    "**7. Используя циклы написать собственную реализацию умножения двух двумерных матриц, засечь время выполнения и сравнить его с функцией умножения матриц NumPy:**"
   ]
  },
  {
   "cell_type": "code",
   "execution_count": 36,
   "id": "e2343aab",
   "metadata": {},
   "outputs": [],
   "source": [
    "n = 3\n",
    "A = np.random.randint(5, size=[n, n])\n",
    "B = np.random.randint(5, size=[n, n])"
   ]
  },
  {
   "cell_type": "code",
   "execution_count": 37,
   "id": "a34db6e7",
   "metadata": {
    "scrolled": false
   },
   "outputs": [
    {
     "name": "stdout",
     "output_type": "stream",
     "text": [
      "CPU times: user 11 µs, sys: 13 µs, total: 24 µs\n",
      "Wall time: 25.7 µs\n"
     ]
    }
   ],
   "source": [
    "%%time\n",
    "C = A @ B"
   ]
  },
  {
   "cell_type": "code",
   "execution_count": 38,
   "id": "233c4d41",
   "metadata": {
    "scrolled": false
   },
   "outputs": [
    {
     "name": "stdout",
     "output_type": "stream",
     "text": [
      "CPU times: user 92 µs, sys: 0 ns, total: 92 µs\n",
      "Wall time: 98.5 µs\n"
     ]
    }
   ],
   "source": [
    "%%time\n",
    "C = np.zeros((n, n))\n",
    "for i in range(n):\n",
    "    for j in range(n):\n",
    "        for k in range(n):\n",
    "            C[i, j] +=  A[i,k]*B[k,j]"
   ]
  }
 ],
 "metadata": {
  "kernelspec": {
   "display_name": "Python 3 (ipykernel)",
   "language": "python",
   "name": "python3"
  },
  "language_info": {
   "codemirror_mode": {
    "name": "ipython",
    "version": 3
   },
   "file_extension": ".py",
   "mimetype": "text/x-python",
   "name": "python",
   "nbconvert_exporter": "python",
   "pygments_lexer": "ipython3",
   "version": "3.10.2"
  }
 },
 "nbformat": 4,
 "nbformat_minor": 5
}
