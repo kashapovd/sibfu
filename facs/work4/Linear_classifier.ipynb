{
 "cells": [
  {
   "cell_type": "markdown",
   "metadata": {},
   "source": [
    "# Задание 1.2 - Линейный классификатор (Linear classifier)\n",
    "\n",
    "В этом задании мы реализуем другую модель машинного обучения - линейный классификатор. Линейный классификатор подбирает для каждого класса веса, на которые нужно умножить значение каждого признака и потом сложить вместе.\n",
    "Тот класс, у которого эта сумма больше, и является предсказанием модели.\n",
    "\n",
    "В этом задании вы:\n",
    "- потренируетесь считать градиенты различных многомерных функций\n",
    "- реализуете подсчет градиентов через линейную модель и функцию потерь softmax\n",
    "- реализуете процесс тренировки линейного классификатора\n",
    "- подберете параметры тренировки на практике\n",
    "\n",
    "На всякий случай, еще раз ссылка на туториал по numpy:  \n",
    "http://cs231n.github.io/python-numpy-tutorial/"
   ]
  },
  {
   "cell_type": "code",
   "execution_count": 1,
   "metadata": {},
   "outputs": [],
   "source": [
    "import numpy as np\n",
    "import matplotlib.pyplot as plt\n",
    "\n",
    "%matplotlib inline\n",
    "\n",
    "%load_ext autoreload\n",
    "%autoreload 2"
   ]
  },
  {
   "cell_type": "code",
   "execution_count": 2,
   "metadata": {},
   "outputs": [],
   "source": [
    "from dataset import load_svhn, random_split_train_val\n",
    "from gradient_check import check_gradient\n",
    "from metrics import multiclass_accuracy \n",
    "import linear_classifer"
   ]
  },
  {
   "cell_type": "markdown",
   "metadata": {},
   "source": [
    "# Как всегда, первым делом загружаем данные\n",
    "\n",
    "Мы будем использовать все тот же SVHN."
   ]
  },
  {
   "cell_type": "code",
   "execution_count": 3,
   "metadata": {},
   "outputs": [],
   "source": [
    "def prepare_for_linear_classifier(train_X, test_X):\n",
    "    train_flat = train_X.reshape(train_X.shape[0], -1).astype(float) / 255.0\n",
    "    test_flat = test_X.reshape(test_X.shape[0], -1).astype(float) / 255.0\n",
    "    \n",
    "    # Вычтем среднее арифметическое\n",
    "    mean_image = np.mean(train_flat, axis = 0)\n",
    "    train_flat -= mean_image\n",
    "    test_flat -= mean_image\n",
    "    \n",
    "    # Добавим канал с единицами как постоянное смещение\n",
    "    train_flat_with_ones = np.hstack([train_flat, np.ones((train_X.shape[0], 1))])\n",
    "    test_flat_with_ones = np.hstack([test_flat, np.ones((test_X.shape[0], 1))])    \n",
    "    return train_flat_with_ones, test_flat_with_ones\n",
    "    \n",
    "train_X, train_y, test_X, test_y = load_svhn(\"data\", max_train=10000, max_test=1000)    \n",
    "train_X, test_X = prepare_for_linear_classifier(train_X, test_X)\n",
    "# Разделим train на train и val\n",
    "train_X, train_y, val_X, val_y = random_split_train_val(train_X, train_y, num_val = 1000)"
   ]
  },
  {
   "cell_type": "markdown",
   "metadata": {},
   "source": [
    "# Играемся с градиентами!\n",
    "\n",
    "В этом курсе мы будем писать много функций, которые вычисляют градиенты аналитическим методом.\n",
    "\n",
    "Все функции, в которых мы будем вычислять градиенты, будут написаны по одной и той же схеме.  \n",
    "Они будут получать на вход точку, где нужно вычислить значение и градиент функции, а на выходе будут выдавать кортеж (tuple) из двух значений - собственно значения функции в этой точке (всегда одно число) и аналитического значения градиента в той же точке (той же размерности, что и вход).\n",
    "```\n",
    "def f(x):\n",
    "    \"\"\"\n",
    "    Computes function and analytic gradient at x\n",
    "    \n",
    "    x: np array of float, input to the function\n",
    "    \n",
    "    Returns:\n",
    "    value: float, value of the function \n",
    "    grad: np array of float, same shape as x\n",
    "    \"\"\"\n",
    "    ...\n",
    "    \n",
    "    return value, grad\n",
    "```\n",
    "\n",
    "Необходимым инструментом во время реализации кода, вычисляющего градиенты, является функция его проверки. Эта функция вычисляет градиент численным методом и сверяет результат с градиентом, вычисленным аналитическим методом.\n",
    "\n",
    "Мы начнем с того, чтобы реализовать вычисление численного градиента (numeric gradient) в функции `check_gradient` в `gradient_check.py`. Эта функция будет принимать на вход функции формата, заданного выше, использовать значение `value` для вычисления численного градиента и сравнит его с аналитическим - они должны сходиться.\n",
    "\n",
    "Напишите часть функции, которая вычисляет градиент с помощью численной производной для каждой координаты. Для вычисления производной используйте так называемую two-point formula (https://en.wikipedia.org/wiki/Numerical_differentiation):\n",
    "\n",
    "![image](https://wikimedia.org/api/rest_v1/media/math/render/svg/22fc2c0a66c63560a349604f8b6b39221566236d)\n",
    "\n",
    "Все функции приведенные в следующей клетке должны проходить gradient check."
   ]
  },
  {
   "cell_type": "code",
   "execution_count": 4,
   "metadata": {
    "scrolled": true
   },
   "outputs": [
    {
     "name": "stdout",
     "output_type": "stream",
     "text": [
      "Gradient check passed!\n",
      "Gradient check passed!\n",
      "Gradient check passed!\n"
     ]
    },
    {
     "data": {
      "text/plain": [
       "True"
      ]
     },
     "execution_count": 4,
     "metadata": {},
     "output_type": "execute_result"
    }
   ],
   "source": [
    "def square(x):\n",
    "    return float(x*x), 2*x\n",
    "\n",
    "check_gradient(square, np.array([3.0]))\n",
    "\n",
    "def array_sum(x):\n",
    "    assert x.shape == (2,), x.shape\n",
    "    return np.sum(x), np.ones_like(x)\n",
    "\n",
    "check_gradient(array_sum, np.array([3.0, 2.0]))\n",
    "\n",
    "def array_2d_sum(x):\n",
    "    assert x.shape == (2,2)\n",
    "    return np.sum(x), np.ones_like(x)\n",
    "\n",
    "check_gradient(array_2d_sum, np.array([[3.0, 2.0], [1.0, 0.0]]))"
   ]
  },
  {
   "cell_type": "markdown",
   "metadata": {},
   "source": [
    "## Начинаем писать свои функции, считающие аналитический градиент\n",
    "\n",
    "Теперь реализуем функцию softmax, которая получает на вход оценки для каждого класса и преобразует их в вероятности от 0 до 1:\n",
    "![image](https://wikimedia.org/api/rest_v1/media/math/render/svg/e348290cf48ddbb6e9a6ef4e39363568b67c09d3)\n",
    "\n",
    "**Важно:** Практический аспект вычисления этой функции заключается в том, что в ней учавствует вычисление экспоненты от потенциально очень больших чисел - это может привести к очень большим значениям в числителе и знаменателе за пределами диапазона float.\n",
    "\n",
    "К счастью, у этой проблемы есть простое решение -- перед вычислением softmax вычесть из всех оценок максимальное значение среди всех оценок:\n",
    "```\n",
    "predictions -= np.max(predictions)\n",
    "```\n",
    "(подробнее здесь - http://cs231n.github.io/linear-classify/#softmax, секция `Practical issues: Numeric stability`)"
   ]
  },
  {
   "cell_type": "code",
   "execution_count": 5,
   "metadata": {},
   "outputs": [],
   "source": [
    "# Реализовали softmax и cross-entropy для единичной выборки\n",
    "probs = linear_classifer.softmax(np.array([-10, 0, 10]))\n",
    "\n",
    "# Убедились, что с большими числами также работает\n",
    "probs = linear_classifer.softmax(np.array([1000, 0, 0]))\n",
    "assert np.isclose(probs[0], 1.0)"
   ]
  },
  {
   "cell_type": "markdown",
   "metadata": {},
   "source": [
    "Кроме этого, мы реализуем cross-entropy loss, которую мы будем использовать как функцию ошибки (error function).\n",
    "В общем виде cross-entropy определена следующим образом:\n",
    "![image](https://wikimedia.org/api/rest_v1/media/math/render/svg/0cb6da032ab424eefdca0884cd4113fe578f4293)\n",
    "\n",
    "где x - все классы, p(x) - истинная вероятность принадлежности сэмпла классу x, а q(x) - вероятность принадлежности классу x, предсказанная моделью.  \n",
    "В нашем случае сэмпл принадлежит только одному классу, индекс которого передается функции. Для него p(x) равна 1, а для остальных классов - 0. \n",
    "\n",
    "Это позволяет реализовать функцию проще!"
   ]
  },
  {
   "cell_type": "code",
   "execution_count": 7,
   "metadata": {},
   "outputs": [
    {
     "data": {
      "text/plain": [
       "10.000045400960277"
      ]
     },
     "execution_count": 7,
     "metadata": {},
     "output_type": "execute_result"
    }
   ],
   "source": [
    "probs = linear_classifer.softmax(np.array([-10, 0, 10]))\n",
    "linear_classifer.cross_entropy_loss(probs, 1)"
   ]
  },
  {
   "cell_type": "markdown",
   "metadata": {},
   "source": [
    "После того как мы реализовали сами функции, мы можем реализовать градиент.\n",
    "\n",
    "Оказывается, что вычисление градиента становится гораздо проще, если объединить эти функции в одну, которая сначала вычисляет вероятности через softmax, а потом использует их для вычисления функции ошибки через cross-entropy loss.\n",
    "\n",
    "Эта функция `softmax_with_cross_entropy` будет возвращает и значение ошибки, и градиент по входным параметрам. Мы проверим корректность реализации с помощью `check_gradient`."
   ]
  },
  {
   "cell_type": "code",
   "execution_count": 8,
   "metadata": {},
   "outputs": [
    {
     "name": "stdout",
     "output_type": "stream",
     "text": [
      "Gradient check passed!\n"
     ]
    },
    {
     "data": {
      "text/plain": [
       "True"
      ]
     },
     "execution_count": 8,
     "metadata": {},
     "output_type": "execute_result"
    }
   ],
   "source": [
    "# Реализовали функцию, объединяющую softmax и cross entropy и вычисляющую градиент\n",
    "loss, grad = linear_classifer.softmax_with_cross_entropy(np.array([1, 0, 0]), 1)\n",
    "check_gradient(lambda x: linear_classifer.softmax_with_cross_entropy(x, 1), np.array([1, 0, 0], np.float64))"
   ]
  },
  {
   "cell_type": "markdown",
   "metadata": {},
   "source": [
    "В качестве метода тренировки мы будем использовать стохастический градиентный спуск (stochastic gradient descent или SGD), который работает с батчами сэмплов. \n",
    "\n",
    "Поэтому все наши фукнции будут получать не один пример, а батч, то есть входом будет не вектор из `num_classes` оценок, а матрица размерности `batch_size, num_classes`. Индекс примера в батче всегда будет первым измерением.\n",
    "\n",
    "Следующий шаг - переписать наши функции так, чтобы они поддерживали батчи.\n",
    "\n",
    "Финальное значение функции ошибки должно остаться числом, и оно равно среднему значению ошибки среди всех примеров в батче."
   ]
  },
  {
   "cell_type": "code",
   "execution_count": 9,
   "metadata": {
    "scrolled": false
   },
   "outputs": [
    {
     "name": "stdout",
     "output_type": "stream",
     "text": [
      "Gradient check passed!\n",
      "Gradient check passed!\n"
     ]
    }
   ],
   "source": [
    "np.random.seed(42)\n",
    "# Тест batch_size = 1\n",
    "num_classes = 4\n",
    "batch_size = 1\n",
    "predictions = np.random.randint(-1, 3, size=(batch_size, num_classes)).astype(np.float64)\n",
    "target_index = np.random.randint(0, num_classes, size=(batch_size, 1)).astype(np.int32)\n",
    "check_gradient(lambda x: linear_classifer.softmax_with_cross_entropy(x, target_index), predictions)\n",
    "\n",
    "# Тест batch_size = 3\n",
    "num_classes = 4\n",
    "batch_size = 3\n",
    "predictions = np.random.randint(-1, 3, size=(batch_size, num_classes)).astype(np.float64)\n",
    "target_index = np.random.randint(0, num_classes, size=(batch_size, 1)).astype(np.int32)\n",
    "check_gradient(lambda x: linear_classifer.softmax_with_cross_entropy(x, target_index), predictions)\n",
    "\n",
    "# Снова убедимся, что нормирование работает для больших чисел в каждом батче.\n",
    "probs = linear_classifer.softmax(np.array([[20,0,0], [1000, 0, 0]]))\n",
    "assert np.all(np.isclose(probs[:, 0], 1.0))"
   ]
  },
  {
   "cell_type": "markdown",
   "metadata": {},
   "source": [
    "### Наконец, реализуем сам линейный классификатор!\n",
    "\n",
    "softmax и cross-entropy получают на вход оценки, которые выдает линейный классификатор.\n",
    "\n",
    "Он делает это очень просто: для каждого класса есть набор весов, на которые надо умножить пиксели картинки и сложить. Получившееся число и является оценкой класса, идущей на вход softmax.\n",
    "\n",
    "Таким образом, линейный классификатор можно представить как умножение вектора с пикселями на матрицу W размера `num_features, num_classes`. Такой подход легко расширяется на случай батча векторов с пикселями X размера `batch_size, num_features`:\n",
    "\n",
    "`predictions = X * W`, где `*` - матричное умножение.\n",
    "\n",
    "Реализуйте функцию подсчета линейного классификатора и градиентов по весам `linear_softmax` в файле `linear_classifer.py`"
   ]
  },
  {
   "cell_type": "code",
   "execution_count": 10,
   "metadata": {},
   "outputs": [
    {
     "name": "stdout",
     "output_type": "stream",
     "text": [
      "Gradient check passed!\n"
     ]
    },
    {
     "data": {
      "text/plain": [
       "True"
      ]
     },
     "execution_count": 10,
     "metadata": {},
     "output_type": "execute_result"
    }
   ],
   "source": [
    "# TODO Implement linear_softmax function that uses softmax with cross-entropy for linear classifier\n",
    "batch_size = 2\n",
    "num_classes = 2\n",
    "num_features = 3\n",
    "np.random.seed(42)\n",
    "W = np.random.randint(-1, 3, size=(num_features, num_classes)).astype(np.float64)\n",
    "X = np.random.randint(-1, 3, size=(batch_size, num_features)).astype(np.float64)\n",
    "target_index = np.ones(batch_size, dtype=np.int32)\n",
    "loss, dW = linear_classifer.linear_softmax(X, W, target_index)\n",
    "check_gradient(lambda w: linear_classifer.linear_softmax(X, w, target_index), W)"
   ]
  },
  {
   "cell_type": "markdown",
   "metadata": {},
   "source": [
    "### И теперь регуляризация\n",
    "\n",
    "Мы будем использовать L2 regularization для весов как часть общей функции ошибки.\n",
    "\n",
    "Напомним, L2 regularization определяется как\n",
    "\n",
    "l2_reg_loss = regularization_strength * sum<sub>ij</sub> W[i, j]<sup>2</sup>\n",
    "\n",
    "Реализуйте функцию для его вычисления и вычисления соотвествующих градиентов."
   ]
  },
  {
   "cell_type": "code",
   "execution_count": 11,
   "metadata": {},
   "outputs": [
    {
     "name": "stdout",
     "output_type": "stream",
     "text": [
      "Gradient check passed!\n"
     ]
    },
    {
     "data": {
      "text/plain": [
       "True"
      ]
     },
     "execution_count": 11,
     "metadata": {},
     "output_type": "execute_result"
    }
   ],
   "source": [
    "# Реализовали функцию l2_regularization, вычисляющую ошибку для L2 регуляризации\n",
    "linear_classifer.l2_regularization(W, 0.01)\n",
    "check_gradient(lambda w: linear_classifer.l2_regularization(w, 0.01), W)"
   ]
  },
  {
   "cell_type": "markdown",
   "metadata": {},
   "source": [
    "# Тренировка!"
   ]
  },
  {
   "cell_type": "markdown",
   "metadata": {},
   "source": [
    "Градиенты в порядке, реализуем процесс тренировки!"
   ]
  },
  {
   "cell_type": "code",
   "execution_count": 12,
   "metadata": {
    "scrolled": false
   },
   "outputs": [
    {
     "name": "stdout",
     "output_type": "stream",
     "text": [
      "Epoch 0, loss: 690.883617\n",
      "Epoch 1, loss: 688.211508\n",
      "Epoch 2, loss: 685.841336\n",
      "Epoch 3, loss: 683.710981\n",
      "Epoch 4, loss: 681.806399\n",
      "Epoch 5, loss: 680.090137\n",
      "Epoch 6, loss: 678.596557\n",
      "Epoch 7, loss: 677.321790\n",
      "Epoch 8, loss: 676.472948\n",
      "Epoch 9, loss: 676.264172\n"
     ]
    }
   ],
   "source": [
    "# Реализовали функцию LinearSoftmaxClassifier.fit\n",
    "classifier = linear_classifer.LinearSoftmaxClassifier()\n",
    "loss_history = classifier.fit(train_X, train_y, epochs=10, learning_rate=1e-3, batch_size=300, reg=1e1)"
   ]
  },
  {
   "cell_type": "code",
   "execution_count": 13,
   "metadata": {},
   "outputs": [
    {
     "data": {
      "text/plain": [
       "[<matplotlib.lines.Line2D at 0x7fc76a7d6830>]"
      ]
     },
     "execution_count": 13,
     "metadata": {},
     "output_type": "execute_result"
    },
    {
     "data": {
      "image/png": "[encoded data removed]",
      "text/plain": [
       "<Figure size 432x288 with 1 Axes>"
      ]
     },
     "metadata": {
      "needs_background": "light"
     },
     "output_type": "display_data"
    }
   ],
   "source": [
    "# Посмотрим историю изменения ошибки!\n",
    "plt.plot(loss_history)"
   ]
  },
  {
   "cell_type": "code",
   "execution_count": 23,
   "metadata": {},
   "outputs": [
    {
     "name": "stdout",
     "output_type": "stream",
     "text": [
      "Accuracy:  0.23\n",
      "Epoch 0, loss: 653.866357\n",
      "Epoch 1, loss: 653.856968\n",
      "Epoch 2, loss: 653.847615\n",
      "Epoch 3, loss: 653.838297\n",
      "Epoch 4, loss: 653.829012\n",
      "Epoch 5, loss: 653.819763\n",
      "Epoch 6, loss: 653.810547\n",
      "Epoch 7, loss: 653.801366\n",
      "Epoch 8, loss: 653.792219\n",
      "Epoch 9, loss: 653.783105\n",
      "Epoch 10, loss: 653.774025\n",
      "Epoch 11, loss: 653.764979\n",
      "Epoch 12, loss: 653.755966\n",
      "Epoch 13, loss: 653.746986\n",
      "Epoch 14, loss: 653.738039\n",
      "Epoch 15, loss: 653.729125\n",
      "Epoch 16, loss: 653.720244\n",
      "Epoch 17, loss: 653.711395\n",
      "Epoch 18, loss: 653.702579\n",
      "Epoch 19, loss: 653.693795\n",
      "Epoch 20, loss: 653.685043\n",
      "Epoch 21, loss: 653.676324\n",
      "Epoch 22, loss: 653.667636\n",
      "Epoch 23, loss: 653.658980\n",
      "Epoch 24, loss: 653.650355\n",
      "Epoch 25, loss: 653.641762\n",
      "Epoch 26, loss: 653.633201\n",
      "Epoch 27, loss: 653.624671\n",
      "Epoch 28, loss: 653.616171\n",
      "Epoch 29, loss: 653.607703\n",
      "Epoch 30, loss: 653.599265\n",
      "Epoch 31, loss: 653.590858\n",
      "Epoch 32, loss: 653.582482\n",
      "Epoch 33, loss: 653.574136\n",
      "Epoch 34, loss: 653.565820\n",
      "Epoch 35, loss: 653.557534\n",
      "Epoch 36, loss: 653.549279\n",
      "Epoch 37, loss: 653.541053\n",
      "Epoch 38, loss: 653.532857\n",
      "Epoch 39, loss: 653.524691\n",
      "Epoch 40, loss: 653.516554\n",
      "Epoch 41, loss: 653.508446\n",
      "Epoch 42, loss: 653.500368\n",
      "Epoch 43, loss: 653.492319\n",
      "Epoch 44, loss: 653.484298\n",
      "Epoch 45, loss: 653.476307\n",
      "Epoch 46, loss: 653.468344\n",
      "Epoch 47, loss: 653.460410\n",
      "Epoch 48, loss: 653.452504\n",
      "Epoch 49, loss: 653.444627\n",
      "Epoch 50, loss: 653.436778\n",
      "Epoch 51, loss: 653.428957\n",
      "Epoch 52, loss: 653.421164\n",
      "Epoch 53, loss: 653.413399\n",
      "Epoch 54, loss: 653.405662\n",
      "Epoch 55, loss: 653.397953\n",
      "Epoch 56, loss: 653.390270\n",
      "Epoch 57, loss: 653.382616\n",
      "Epoch 58, loss: 653.374988\n",
      "Epoch 59, loss: 653.367388\n",
      "Epoch 60, loss: 653.359815\n",
      "Epoch 61, loss: 653.352269\n",
      "Epoch 62, loss: 653.344749\n",
      "Epoch 63, loss: 653.337257\n",
      "Epoch 64, loss: 653.329791\n",
      "Epoch 65, loss: 653.322351\n",
      "Epoch 66, loss: 653.314938\n",
      "Epoch 67, loss: 653.307551\n",
      "Epoch 68, loss: 653.300190\n",
      "Epoch 69, loss: 653.292855\n",
      "Epoch 70, loss: 653.285546\n",
      "Epoch 71, loss: 653.278263\n",
      "Epoch 72, loss: 653.271006\n",
      "Epoch 73, loss: 653.263774\n",
      "Epoch 74, loss: 653.256568\n",
      "Epoch 75, loss: 653.249387\n",
      "Epoch 76, loss: 653.242232\n",
      "Epoch 77, loss: 653.235102\n",
      "Epoch 78, loss: 653.227996\n",
      "Epoch 79, loss: 653.220916\n",
      "Epoch 80, loss: 653.213861\n",
      "Epoch 81, loss: 653.206830\n",
      "Epoch 82, loss: 653.199824\n",
      "Epoch 83, loss: 653.192843\n",
      "Epoch 84, loss: 653.185886\n",
      "Epoch 85, loss: 653.178953\n",
      "Epoch 86, loss: 653.172045\n",
      "Epoch 87, loss: 653.165161\n",
      "Epoch 88, loss: 653.158301\n",
      "Epoch 89, loss: 653.151465\n",
      "Epoch 90, loss: 653.144652\n",
      "Epoch 91, loss: 653.137864\n",
      "Epoch 92, loss: 653.131099\n",
      "Epoch 93, loss: 653.124358\n",
      "Epoch 94, loss: 653.117640\n",
      "Epoch 95, loss: 653.110945\n",
      "Epoch 96, loss: 653.104274\n",
      "Epoch 97, loss: 653.097626\n",
      "Epoch 98, loss: 653.091001\n",
      "Epoch 99, loss: 653.084399\n",
      "Accuracy after training for 100 epochs:  0.229\n"
     ]
    },
    {
     "data": {
      "image/png": "[encoded data removed]",
      "text/plain": [
       "<Figure size 432x288 with 1 Axes>"
      ]
     },
     "metadata": {
      "needs_background": "light"
     },
     "output_type": "display_data"
    }
   ],
   "source": [
    "# TODO: Реализовать функцию вычисления точности и посмотреть точность обучения\n",
    "pred = classifier.predict(val_X)\n",
    "accuracy = multiclass_accuracy(pred, val_y)\n",
    "print(\"Accuracy: \", accuracy)\n",
    "\n",
    "# Теперь возьмем больше эпох, меньшую скорость обучения и посмотрим как изменится точность\n",
    "loss_history = classifier.fit(train_X, train_y, batch_size=300, learning_rate=1e-4, reg=1e1, epochs=100)\n",
    "plt.plot(loss_history);\n",
    "pred = classifier.predict(val_X)\n",
    "accuracy = multiclass_accuracy(pred, val_y)\n",
    "print(\"Accuracy after training for 100 epochs: \", accuracy)"
   ]
  },
  {
   "cell_type": "markdown",
   "metadata": {},
   "source": [
    "### Как и раньше, используем кросс-валидацию для подбора гиперпараметров.\n",
    "\n",
    "В этот раз, чтобы тренировка занимала разумное время, мы будем использовать только одно разделение на тренировочные (training) и проверочные (validation) данные.\n",
    "\n",
    "Теперь нам нужно подобрать не один, а два гиперпараметра! Не ограничивайте себя изначальными значениями в коде.  \n",
    "Добейтесь точности более чем **20%** на проверочных данных (validation data)."
   ]
  },
  {
   "cell_type": "code",
   "execution_count": 44,
   "metadata": {},
   "outputs": [
    {
     "name": "stdout",
     "output_type": "stream",
     "text": [
      "lr: 0.01, rs: 0.001: accuracy: 0.159\n",
      "lr: 0.01, rs: 0.0001: accuracy: 0.113\n",
      "lr: 0.01, rs: 1e-05: accuracy: 0.114\n",
      "lr: 0.01, rs: 1e-06: accuracy: 0.118\n",
      "lr: 0.001, rs: 0.001: accuracy: 0.211\n",
      "lr: 0.001, rs: 0.0001: accuracy: 0.205\n",
      "lr: 0.001, rs: 1e-05: accuracy: 0.205\n",
      "lr: 0.001, rs: 1e-06: accuracy: 0.205\n",
      "lr: 0.0001, rs: 0.001: accuracy: 0.229\n",
      "lr: 0.0001, rs: 0.0001: accuracy: 0.229\n",
      "lr: 0.0001, rs: 1e-05: accuracy: 0.227\n",
      "lr: 0.0001, rs: 1e-06: accuracy: 0.228\n",
      "lr: 1e-05, rs: 0.001: accuracy: 0.171\n",
      "lr: 1e-05, rs: 0.0001: accuracy: 0.173\n",
      "lr: 1e-05, rs: 1e-05: accuracy: 0.157\n",
      "lr: 1e-05, rs: 1e-06: accuracy: 0.164\n"
     ]
    }
   ],
   "source": [
    "num_epochs = 200\n",
    "batch_size = 250\n",
    "\n",
    "learning_rates = [1e-2,1e-3, 1e-4, 1e-5]\n",
    "reg_strengths = [1e-3,1e-4, 1e-5, 1e-6]\n",
    "\n",
    "cvdata = []\n",
    "for lr in learning_rates:\n",
    "    for rs in reg_strengths:\n",
    "        classifier = linear_classifer.LinearSoftmaxClassifier()\n",
    "        classifier.fit(train_X, train_y, epochs=num_epochs, learning_rate=lr, \n",
    "                                batch_size=batch_size, reg=rs)\n",
    "\n",
    "        prediction = classifier.predict(val_X)\n",
    "        accuracy = multiclass_accuracy(prediction, val_y)\n",
    "        cvdata.append(tuple([lr, rs, accuracy]))\n",
    "        print(\"lr: {}, rs: {}: accuracy: {}\".format(lr, rs, accuracy))"
   ]
  },
  {
   "cell_type": "code",
   "execution_count": 48,
   "metadata": {},
   "outputs": [
    {
     "name": "stdout",
     "output_type": "stream",
     "text": [
      "best validation accuracy achieved: 0.229000\n"
     ]
    }
   ],
   "source": [
    "best_classifier = linear_classifer.LinearSoftmaxClassifier()\n",
    "cvdata.sort(key = lambda x: float(x[2]), reverse = True)\n",
    "best_val_lr = cvdata[0][0]\n",
    "best_val_rs = cvdata[0][1]\n",
    "best_val_accuracy = cvdata[0][2]\n",
    "\n",
    "print('best validation accuracy achieved: %f' % best_val_accuracy)"
   ]
  },
  {
   "cell_type": "code",
   "execution_count": 49,
   "metadata": {},
   "outputs": [],
   "source": [
    "train_and_val_X = np.concatenate((train_X, val_X))\n",
    "train_and_val_y = np.concatenate((train_y, val_y))\n",
    "best_classifier.fit(train_and_val_X, train_and_val_y, epochs=num_epochs, \n",
    "                    learning_rate=best_val_lr, batch_size=batch_size, reg=best_val_rs);"
   ]
  },
  {
   "cell_type": "markdown",
   "metadata": {},
   "source": [
    "# Какой же точности мы добились на тестовых данных?"
   ]
  },
  {
   "cell_type": "code",
   "execution_count": 50,
   "metadata": {},
   "outputs": [
    {
     "name": "stdout",
     "output_type": "stream",
     "text": [
      "Linear softmax classifier test set accuracy: 0.192000\n"
     ]
    }
   ],
   "source": [
    "test_pred = best_classifier.predict(test_X)\n",
    "test_accuracy = multiclass_accuracy(test_pred, test_y)\n",
    "print('Linear softmax classifier test set accuracy: %f' % (test_accuracy, ))"
   ]
  }
 ],
 "metadata": {
  "kernelspec": {
   "display_name": "Python 3 (ipykernel)",
   "language": "python",
   "name": "python3"
  },
  "language_info": {
   "codemirror_mode": {
    "name": "ipython",
    "version": 3
   },
   "file_extension": ".py",
   "mimetype": "text/x-python",
   "name": "python",
   "nbconvert_exporter": "python",
   "pygments_lexer": "ipython3",
   "version": "3.10.4"
  }
 },
 "nbformat": 4,
 "nbformat_minor": 2
}
